{
 "cells": [
  {
   "attachments": {},
   "cell_type": "markdown",
   "metadata": {},
   "source": [
    "# Implementing a toy denoiser from scratch \n",
    "\n",
    "Implementing a toy denoiser for the MNIST dataset from scratch. \n",
    "The denoiser is trained on the MNIST dataset with added noise. \n",
    "\n",
    "(1) Get and prepare the data for training / validation \n",
    "(2) Define the model\n",
    "(3) Train the model\n",
    "(4) Evaluate the model"
   ]
  },
  {
   "cell_type": "code",
   "execution_count": 25,
   "metadata": {},
   "outputs": [
    {
     "name": "stdout",
     "output_type": "stream",
     "text": [
      "Using cuda device\n"
     ]
    }
   ],
   "source": [
    "import torch \n",
    "from torch import nn\n",
    "from torch.utils.data import DataLoader\n",
    "from torchvision import datasets\n",
    "from torchvision.transforms import ToTensor \n",
    "from datetime import datetime\n",
    "import os\n",
    "import logging\n",
    "\n",
    "# Define experiment log directory and create it if it doesn't exist\n",
    "log_dir = 'runs/denoiser_test_{}'.format(datetime.now().strftime(\"%Y%m%d\"))\n",
    "os.makedirs(log_dir, exist_ok=True)\n",
    "\n",
    "# Define experiment parameters\n",
    "batch_size = 16\n",
    "device = 'cuda' if torch.cuda.is_available() else 'cpu'\n",
    "print('Using {} device'.format(device))\n",
    "\n",
    "# Set up logging and add relevant information\n",
    "logging.basicConfig(filename=os.path.join(log_dir, 'experiment.log'), \n",
    "                    level=logging.INFO, \n",
    "                    format=' %(message)s')\n",
    "logging.info('Experiment started at {}'.format(datetime.now().strftime(\"%Y%m%d-%H%M%S\")))\n",
    "logging.info('Batch size: {}'.format(batch_size))\n",
    "logging.info('Device: {}'.format(device))"
   ]
  },
  {
   "attachments": {},
   "cell_type": "markdown",
   "metadata": {},
   "source": [
    "# Get and prepare the data for training / validation "
   ]
  },
  {
   "cell_type": "code",
   "execution_count": 24,
   "metadata": {},
   "outputs": [
    {
     "name": "stdout",
     "output_type": "stream",
     "text": [
      "Data loaders created\n",
      "Training data size: 60000\n",
      "Test data size: 10000\n",
      "Shape of X [N, C, H, W]:  torch.Size([16, 1, 28, 28])\n",
      "Shape of y:  torch.Size([16]) torch.int64\n"
     ]
    }
   ],
   "source": [
    "# Download training data from open datasets.\n",
    "training_data = datasets.MNIST(\n",
    "    root=\"data\",\n",
    "    train=True,\n",
    "    download=True,\n",
    "    transform=ToTensor(),\n",
    ")\n",
    "\n",
    "# Download test data from open datasets.\n",
    "test_data = datasets.MNIST(\n",
    "    root=\"data\",\n",
    "    train=False,\n",
    "    download=True,\n",
    "    transform=ToTensor(),\n",
    ")\n",
    "\n",
    "# Create data loaders\n",
    "train_dataloader = DataLoader(training_data, batch_size=batch_size)\n",
    "test_dataloader = DataLoader(test_data, batch_size=batch_size)\n",
    "print('Data loaders created')\n",
    "print('Training data size: {}'.format(len(training_data)))\n",
    "print('Test data size: {}'.format(len(test_data)))\n",
    "\n",
    "for X, y in test_dataloader:\n",
    "    print(\"Shape of X [N, C, H, W]: \", X.shape)\n",
    "    print(\"Shape of y: \", y.shape, y.dtype)\n",
    "    break\n",
    "\n"
   ]
  },
  {
   "cell_type": "code",
   "execution_count": 23,
   "metadata": {},
   "outputs": [
    {
     "data": {
      "image/png": "[encoded data removed]",
      "text/plain": [
       "<Figure size 1000x1000 with 16 Axes>"
      ]
     },
     "metadata": {},
     "output_type": "display_data"
    }
   ],
   "source": [
    "import numpy as np\n",
    "import matplotlib.pyplot as plt\n",
    "import torchvision.transforms.functional as F\n",
    "plt.rcParams[\"savefig.bbox\"] = 'tight'\n",
    "\n",
    "def show_batch(batch_of_images):\n",
    "    imgs = [img for img in batch_of_images]\n",
    "    if not isinstance(imgs, list):\n",
    "        imgs = [imgs]\n",
    "    \n",
    "    ncols = int(np.ceil(np.sqrt(len(imgs))))\n",
    "    nrows = ncols\n",
    "    fig, axs = plt.subplots(ncols=ncols, nrows=ncols, squeeze=False)\n",
    "    fig.set_size_inches(10, 10)\n",
    "    for i, img in enumerate(imgs):\n",
    "        img = img.detach()\n",
    "        img = F.to_pil_image(img)\n",
    "        axs[i // ncols, np.mod(i,ncols)].imshow(np.asarray(img).squeeze(), cmap='gray')\n",
    "        axs[i // ncols, np.mod(i,ncols)].set(xticklabels=[], yticklabels=[], xticks=[], yticks=[])\n",
    "        \n",
    "show_batch(next(iter(train_dataloader))[0])"
   ]
  },
  {
   "attachments": {},
   "cell_type": "markdown",
   "metadata": {},
   "source": [
    "# Define the model\n"
   ]
  },
  {
   "cell_type": "code",
   "execution_count": 27,
   "metadata": {},
   "outputs": [
    {
     "name": "stdout",
     "output_type": "stream",
     "text": [
      "Denoiser(\n",
      "  (flatten): Flatten(start_dim=1, end_dim=-1)\n",
      "  (linear_relu_stack): Sequential(\n",
      "    (0): Linear(in_features=784, out_features=128, bias=False)\n",
      "    (1): ReLU()\n",
      "    (2): Linear(in_features=128, out_features=128, bias=False)\n",
      "    (3): ReLU()\n",
      "    (4): Linear(in_features=128, out_features=128, bias=False)\n",
      "    (5): ReLU()\n",
      "    (6): Linear(in_features=128, out_features=128, bias=False)\n",
      "    (7): ReLU()\n",
      "    (8): Linear(in_features=128, out_features=784, bias=False)\n",
      "  )\n",
      ")\n"
     ]
    }
   ],
   "source": [
    "class Denoiser(nn.Module):\n",
    "    def __init__(self):\n",
    "        super(Denoiser, self).__init__()\n",
    "        self.flatten = nn.Flatten()\n",
    "        self.linear_relu_stack = nn.Sequential(\n",
    "            nn.Linear(28*28, 128, bias=False),\n",
    "            nn.ReLU(),\n",
    "            nn.Linear(128, 128, bias=False),\n",
    "            nn.ReLU(),\n",
    "            nn.Linear(128, 128, bias=False),\n",
    "            nn.ReLU(),\n",
    "            nn.Linear(128, 128, bias=False),\n",
    "            nn.ReLU(),\n",
    "            nn.Linear(128, 28*28, bias=False)\n",
    "            )\n",
    "        \n",
    "    def forward(self, x):\n",
    "        x = self.flatten(x)\n",
    "        x = self.linear_relu_stack(x)\n",
    "        return x\n",
    "    \n",
    "denoiser = Denoiser().to(device)\n",
    "print(denoiser)"
   ]
  },
  {
   "cell_type": "code",
   "execution_count": null,
   "metadata": {},
   "outputs": [],
   "source": [
    "loss = nn.MSELoss()\n",
    "optimizer = torch.optim.adamw(denoiser.parameters(), lr=1e-3)"
   ]
  },
  {
   "attachments": {},
   "cell_type": "markdown",
   "metadata": {},
   "source": [
    "## Define training and testing loops \n"
   ]
  },
  {
   "cell_type": "code",
   "execution_count": 28,
   "metadata": {},
   "outputs": [],
   "source": [
    "from torch.utils.tensorboard import SummaryWriter\n",
    "\n",
    "def add_gaussian_noise(img, mean=0, std=0.1):\n",
    "    noise = torch.randn(img.size()) * std + mean\n",
    "    noisy_img = img + noise\n",
    "    return noisy_img\n",
    "\n",
    "# Define training loop \n",
    "def train(model, train_dataloader, loss, optimizer):\n",
    "    size = len(train_dataloader.dataset)\n",
    "    model.train()\n",
    "    for batch, (X, _) in enumerate(train_dataloader):\n",
    "        X = X.to(device)\n",
    "        noisy_X = add_gaussian_noise(X)  # noisy sample, \n",
    "        pred = model(noisy_X)  # denoised sample\n",
    "        loss = loss(pred, X)   # MSE loss between denoised and original\n",
    "        \n",
    "        # Backpropagation\n",
    "        optimizer.zero_grad()\n",
    "        loss.backward()\n",
    "        optimizer.step()\n",
    "        \n",
    "        if batch % 100 == 0:\n",
    "            loss, current = loss.item(), batch * len(X)\n",
    "            print(f\"loss: {loss:>7f}  [{current:>5d}/{size:>5d}]\")\n",
    "            \n",
    "        # To-Do:\n",
    "        # Add tensorboard loss logging and images logging\n",
    "        \n",
    "        \n",
    "# We will check the model's performance against the test dataset to ensure it is learning \n",
    "def test(dataloader, model, loss_fn):\n",
    "    size = len(dataloader.dataset)\n",
    "    num_batches = len(dataloader)\n",
    "    model.eval()\n",
    "    test_loss, correct = 0, 0 \n",
    "    with torch.no_grad():\n",
    "        for X, y in dataloader:\n",
    "            X, y = X.to(device), y.to(device)\n",
    "            pred = model(X)\n",
    "            test_loss += loss_fn(pred, y).item()\n",
    "            correct += (pred.argmax(1) == y).type(torch.float).sum().item()\n",
    "    test_loss /= num_batches\n",
    "    correct /= size\n",
    "    print(f\"Test Error: \\n Accuracy: {(100*correct):>0.1f}, Avg loss: {test_loss:>8f} \\n\")\n",
    "    "
   ]
  },
  {
   "cell_type": "code",
   "execution_count": null,
   "metadata": {},
   "outputs": [],
   "source": []
  },
  {
   "cell_type": "code",
   "execution_count": null,
   "metadata": {},
   "outputs": [],
   "source": []
  }
 ],
 "metadata": {
  "kernelspec": {
   "display_name": ".venv",
   "language": "python",
   "name": "python3"
  },
  "language_info": {
   "codemirror_mode": {
    "name": "ipython",
    "version": 3
   },
   "file_extension": ".py",
   "mimetype": "text/x-python",
   "name": "python",
   "nbconvert_exporter": "python",
   "pygments_lexer": "ipython3",
   "version": "3.10.11"
  },
  "orig_nbformat": 4
 },
 "nbformat": 4,
 "nbformat_minor": 2
}
